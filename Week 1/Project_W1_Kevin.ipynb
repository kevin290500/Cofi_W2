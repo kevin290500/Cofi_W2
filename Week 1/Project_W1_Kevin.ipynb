{
 "cells": [
  {
   "cell_type": "markdown",
   "metadata": {
    "id": "gVVGjd4mZWOS"
   },
   "source": [
    "## Question No. 1 \n",
    "Buatlah sebuah program untuk melakukan pendataan penduduk dari NIK untuk mengetahui Umur dan Jenis Kelamin\n",
    "\n",
    "*Note:*\n",
    "- Untuk **PRIA** tanggal lahirnya memiliki format dd-mm-yy\n",
    "- Untuk **WANITA** tanggal lahirnya memiliki format (dd+40) - mm - yy\n",
    "\n",
    "`EXAMPLE 1`:\n",
    "\n",
    "Input:\n",
    "\n",
    "> 3172014212960005\n",
    "\n",
    "Output\n",
    "\n",
    "> Perempuan, 26 (Age)\n",
    "\n",
    "`EXAMPLE 2`:\n",
    "\n",
    "Input:\n",
    "\n",
    "> 3172042211950004\n",
    "\n",
    "Output\n",
    "\n",
    "> Pria, 27"
   ]
  },
  {
   "cell_type": "markdown",
   "metadata": {
    "id": "GiSBqj_WZdLr"
   },
   "source": [
    "### Code"
   ]
  },
  {
   "cell_type": "code",
   "execution_count": 7,
   "metadata": {
    "id": "KNEMQKfAZetc"
   },
   "outputs": [
    {
     "name": "stdout",
     "output_type": "stream",
     "text": [
      "1671091201000003\n",
      "Jenis Kelamin :  Pria\n",
      "Umur          :  23 Tahun\n"
     ]
    }
   ],
   "source": [
    "from datetime import date\n",
    "no = input()\n",
    "\n",
    "if int(no[6:8]) < 40:\n",
    "    jenkel = \"Pria\"\n",
    "elif int(no[6:8]) > 40:\n",
    "    jenkel = \"Wanita\"\n",
    "\n",
    "hari = date.today() \n",
    "tahun = int(no[10:12])\n",
    "\n",
    "if int(no[8]) == 0:\n",
    "    bulan = int(no[9])\n",
    "elif int(no[8]) == 1:\n",
    "    bulan = int(no[8:10])\n",
    "\n",
    "if tahun > 23:\n",
    "    umur = hari.year - (tahun + 1900)\n",
    "    \n",
    "else:\n",
    "    umur = hari.year - (tahun + 2000)\n",
    "\n",
    "if hari.month < bulan:\n",
    "    umur -= 1\n",
    "        \n",
    "print(\"Jenis Kelamin : \",jenkel)\n",
    "print(\"Umur          : \",umur ,\"Tahun\")"
   ]
  },
  {
   "cell_type": "markdown",
   "metadata": {
    "id": "DG73DyDIZgXQ"
   },
   "source": [
    "## Bonus Question No. 1\n",
    "\n",
    "Diberikan beberapa data NIK, lalu:\n",
    "- Hitung jumlah data NIK yang tersedia\n",
    "- Hitung jumlah Pria\n",
    "- Hitung jumlah Wanita\n",
    "- Hitung jumlah yang balita (0-5 tahun)\n",
    "- Hitung jumlah yang anak kecil (6-15 tahun)\n",
    "- Hitung jumlah yang remaja (16-24 tahun)\n",
    "- Hitung jumlah yang masa produktif (25-50 tahun)\n",
    "- Hitung jumlah yang pensiun (50-60 tahun)\n",
    "- Hitung jumlah yang lansia (60 ~)"
   ]
  },
  {
   "cell_type": "markdown",
   "metadata": {
    "id": "eyzzIy7tZlYE"
   },
   "source": [
    "### Code"
   ]
  },
  {
   "cell_type": "code",
   "execution_count": 2,
   "metadata": {
    "id": "Qhi0HzspZsN7"
   },
   "outputs": [
    {
     "name": "stdout",
     "output_type": "stream",
     "text": [
      "Jumlah NIK Tersedia   :  10\n",
      "Jumlah Pria           :  6\n",
      "Jumlah Wanita         :  4\n",
      "Jumlah Balita         :  1\n",
      "Jumlah Anak Kecil     :  1\n",
      "Jumlah Remaja         :  2\n",
      "Jumlah Masa Produktif :  4\n",
      "Jumlah Pensiun        :  0\n",
      "Jumlah Lansia         :  1\n"
     ]
    }
   ],
   "source": [
    "from datetime import date\n",
    "balita, anak, remaja, produktif, pensiun, lansia, pria, wanita = 0,0,0,0,0,0,0,0\n",
    "\n",
    "hari = date.today()\n",
    "\n",
    "no = ['3172042211950004', '3174070505970002', \n",
    "      '3172046409000007', '3172040603060005', \n",
    "      '3172042106610002', '3172467001210009',\n",
    "      '3172205712220001', '3172062107130008', \n",
    "      '3172465210820007', '31724621029000043']\n",
    "\n",
    "for i in no:\n",
    "    if int(i[6:8]) > 40:\n",
    "        wanita += 1\n",
    "    elif int(i[6:8]) < 40:\n",
    "        pria += 1\n",
    "\n",
    "for i in no:\n",
    "    tahun = int(i[10:12])\n",
    "    if int(i[8]) == 0:\n",
    "        bulan = int(i[9])\n",
    "    elif int(i[8]) == 1:\n",
    "        bulan = int(i[8:10])\n",
    "    if tahun > 23:\n",
    "        umur = hari.year - (tahun + 1900)\n",
    "        if hari.month < bulan:\n",
    "            umur -= 1\n",
    "    else:\n",
    "        umur = hari.year - (tahun + 2000)\n",
    "        if hari.month < tahun:\n",
    "            umur -= 1\n",
    "     \n",
    "    if umur > 0 and umur <= 5:\n",
    "        balita += 1\n",
    "    elif umur > 5 and umur <= 15:\n",
    "        anak += 1\n",
    "    elif umur > 15 and umur <= 24:\n",
    "        remaja += 1\n",
    "    elif umur > 24 and umur <= 50:\n",
    "        produktif += 1\n",
    "    elif umur > 50 and umur <= 60:\n",
    "        pensiun += 1\n",
    "    elif umur > 60:\n",
    "        lansia += 1\n",
    "    \n",
    "\n",
    "print(\"Jumlah NIK Tersedia   : \",len(no))\n",
    "print(\"Jumlah Pria           : \",pria)\n",
    "print(\"Jumlah Wanita         : \",wanita)\n",
    "print(\"Jumlah Balita         : \",balita)\n",
    "print(\"Jumlah Anak Kecil     : \",anak)\n",
    "print(\"Jumlah Remaja         : \",remaja)\n",
    "print(\"Jumlah Masa Produktif : \",produktif)\n",
    "print(\"Jumlah Pensiun        : \",pensiun)\n",
    "print(\"Jumlah Lansia         : \",lansia)"
   ]
  },
  {
   "cell_type": "markdown",
   "metadata": {
    "id": "ci04gtb2ZxjF"
   },
   "source": [
    "## Question No. 2\n",
    "Buatlah sebuah program/fungsi yang dapat melakukan input plat nomor kendaraan sebanyak **N** dengan format:\n",
    "\n",
    "\"X 0000 XXX\" dimana X adalah alfabet uppercase dan 0 adalah numeric \n",
    "\n",
    "EXAMPLE 1\n",
    "\n",
    "Input:\n",
    "\n",
    "> 5\n",
    "\n",
    "Output:\n",
    "\n",
    "> ['P 9350 HZF', 'G 1872 VGW', 'Z 6250 LMH', 'F 3142 JVH', 'S 4643 BSF']"
   ]
  },
  {
   "cell_type": "markdown",
   "metadata": {
    "id": "ioPaOPNjZ02d"
   },
   "source": [
    "### Code"
   ]
  },
  {
   "cell_type": "code",
   "execution_count": 3,
   "metadata": {},
   "outputs": [
    {
     "name": "stdout",
     "output_type": "stream",
     "text": [
      "3\n",
      "['G 2325 URI', 'Q 8879 VUB', 'N 6497 IQE']\n"
     ]
    }
   ],
   "source": [
    "# import library\n",
    "import random\n",
    "import string\n",
    "\n",
    "# buat function\n",
    "def random_plat():\n",
    "    # buat variabel yang berisi funsi input\n",
    "    x = int(input())\n",
    "    # buat list\n",
    "    plat = []\n",
    "    numbs = []\n",
    "    for i in range(x):\n",
    "        # 1 Huruf Besar\n",
    "        numbs.append(random.choice(string.ascii_uppercase))\n",
    "        # Angka 4 Digit dengan Rentang 1000-9999\n",
    "        numbs.append(str(random.randint(1000,9999)))\n",
    "        # 3 Huruf Besar Acak & Gabungkan semua\n",
    "        numbs.append(''.join([random.choice(string.ascii_uppercase) for i in range(3)]))\n",
    "        # Masukan isi list numbs kw list kosong plat\n",
    "        plat.append(\" \".join(numbs))\n",
    "        # Hapus isi numbs\n",
    "        numbs.clear()\n",
    "    # Kembalikan nilai plat\n",
    "    return plat\n",
    "# Masukan nilai function kedalam variabel lalu cetak\n",
    "kendaraan=random_plat()\n",
    "print(kendaraan)\n"
   ]
  },
  {
   "cell_type": "markdown",
   "metadata": {
    "id": "9Mn5VEZuZ3Q0"
   },
   "source": [
    "## Bonus Question No. 2\n",
    "\n",
    "Buat sebuah fungsi yang dapat membedakan No plat hasil dari program kalian sebelumnya untuk dibedakan Ganjil dan Genap\n",
    "\n",
    "EXAMPLE 1\n",
    "\n",
    "Input:\n",
    "\n",
    "> 'B 6127 UUZ'\n",
    "\n",
    "Output:\n",
    "\n",
    "> B 6127 UUZ merupakan Plat Ganjil"
   ]
  },
  {
   "cell_type": "markdown",
   "metadata": {
    "id": "hGhhDn5ZZ606"
   },
   "source": [
    "### Code"
   ]
  },
  {
   "cell_type": "code",
   "execution_count": 5,
   "metadata": {
    "id": "UyBdXDUAZ8Sn"
   },
   "outputs": [
    {
     "name": "stdout",
     "output_type": "stream",
     "text": [
      "G 2325 URI Merupakan Plat Ganjil\n",
      "Q 8879 VUB Merupakan Plat Ganjil\n",
      "N 6497 IQE Merupakan Plat Ganjil\n"
     ]
    }
   ],
   "source": [
    "# buat function untuk cek ganjil genap\n",
    "def cek_number(a):\n",
    "    # variabel \n",
    "    i = 0\n",
    "    while i < len(a):\n",
    "        if int(a[i][2:6]) % 2 != 0:\n",
    "            print(a[i], 'Merupakan Plat Ganjil')\n",
    "        elif int(a[i][2:6]) % 2 == 0:\n",
    "            print(a[i], 'Merupakan Plat Genap')\n",
    "        i += 1\n",
    "        if i == len(a):\n",
    "            break\n",
    "cek_number(kendaraan)\n",
    "    "
   ]
  }
 ],
 "metadata": {
  "colab": {
   "provenance": []
  },
  "kernelspec": {
   "display_name": "Python 3 (ipykernel)",
   "language": "python",
   "name": "python3"
  },
  "language_info": {
   "codemirror_mode": {
    "name": "ipython",
    "version": 3
   },
   "file_extension": ".py",
   "mimetype": "text/x-python",
   "name": "python",
   "nbconvert_exporter": "python",
   "pygments_lexer": "ipython3",
   "version": "3.9.13"
  }
 },
 "nbformat": 4,
 "nbformat_minor": 1
}
