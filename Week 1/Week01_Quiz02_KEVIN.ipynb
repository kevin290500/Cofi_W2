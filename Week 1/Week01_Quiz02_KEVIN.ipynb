{
 "cells": [
  {
   "cell_type": "markdown",
   "metadata": {},
   "source": [
    "### **Link Pengumpulan Quiz02**\n",
    "https://forms.gle/X5PmWVvtXqx34TUU7"
   ]
  },
  {
   "cell_type": "markdown",
   "metadata": {},
   "source": [
    "### **Soal 1 List Comprehension (Easy)**"
   ]
  },
  {
   "cell_type": "markdown",
   "metadata": {},
   "source": [
    "Buatlah codingan ketika dalam sebuah list angka tersebut adalah bilangan genap maka bilangan tersebut di kuadratkan.<br><br>\n",
    "input<br>\n",
    "x=[1,2,3,4,5,6]\n",
    "<br>\n",
    "<br>\n",
    "output :<br>[1,4,3,16,5,36]"
   ]
  },
  {
   "cell_type": "code",
   "execution_count": 112,
   "metadata": {},
   "outputs": [
    {
     "name": "stdout",
     "output_type": "stream",
     "text": [
      "1 4 16 5 64 100 "
     ]
    }
   ],
   "source": [
    "x=[1,2,4,5,8,10]\n",
    "\n",
    "#[print(i**2, end=\",\") for i in x if i%2==0]\n",
    "#[i**2 for i in x if i%2==0 else i for i in x]\n",
    "\n",
    "for i in x:\n",
    "    if i % 2 == 0:\n",
    "        print (i**2, end=\" \")\n",
    "    else:\n",
    "        print(i, end=\" \")\n",
    "    \n",
    "#your code goes here\n",
    "\n",
    "# expected output: [1,4,16,5,64,100]"
   ]
  },
  {
   "cell_type": "markdown",
   "metadata": {},
   "source": [
    "### Soal 2 (Medium)\n",
    "\n",
    "Buat program dengan 4 variabel:\n",
    "1. Sebuah list berisikan > 5 angka (integer) dengan minimal salah satu terdapat angka yang habis di bagi variabel `divider`\n",
    "2. Sebuah variabel yang akan menjadi pembagi list yang ada di atas (integer)\n",
    "3. Sebuah list untuk menyimpat value dari list pertama yang habis di bagi `divider`\n",
    "4. Sebuah variabel yang menghitung ada berapa value yang habis dibagi `divider`\n",
    "\n",
    "Buat kondisi:\n",
    "- **jika ada** angka yang bisa dibagi `divider` maka print angka tersebut beserta banyak value yang habis dibagi\n",
    "- **Jika tidak** maka tambahkan nilai `divider kedalam list pertama dan munculkan list tersebut\n",
    "\n",
    "Example 1:\n",
    "> Input:\n",
    "- Numb = [10, 15, 20, 25, 30]\n",
    "- divider = 10\n",
    "\n",
    "> Output:\n",
    "- Ada 3 nilai yang habis dibagi 10 yaitu 10, 20, 30\n",
    "\n",
    "Example 2:\n",
    "> Input:\n",
    "- Numb = [1, 7, 10, 13, 21, 25]\n",
    "- divider = 12\n",
    "\n",
    "> Output:\n",
    "- List tidak memiliki angka yang habis dibagi 12\n",
    "- Update List = [1, 7, 10, 13, 21, 25, 12]"
   ]
  },
  {
   "cell_type": "code",
   "execution_count": 113,
   "metadata": {},
   "outputs": [
    {
     "ename": "SyntaxError",
     "evalue": "invalid syntax (906181791.py, line 2)",
     "output_type": "error",
     "traceback": [
      "\u001b[1;36m  File \u001b[1;32m\"C:\\Users\\lenovo\\AppData\\Local\\Temp\\ipykernel_12244\\906181791.py\"\u001b[1;36m, line \u001b[1;32m2\u001b[0m\n\u001b[1;33m    if numb % divisor == 0\u001b[0m\n\u001b[1;37m                          ^\u001b[0m\n\u001b[1;31mSyntaxError\u001b[0m\u001b[1;31m:\u001b[0m invalid syntax\n"
     ]
    }
   ],
   "source": [
    "def devider(numb,divisor):\n",
    "    if numb % divisor == 0\n",
    "    print (\" \")\n",
    "    \n",
    "    #your code goes here\n",
    "    "
   ]
  },
  {
   "cell_type": "code",
   "execution_count": 93,
   "metadata": {},
   "outputs": [
    {
     "ename": "NameError",
     "evalue": "name 'devider' is not defined",
     "output_type": "error",
     "traceback": [
      "\u001b[1;31m---------------------------------------------------------------------------\u001b[0m",
      "\u001b[1;31mNameError\u001b[0m                                 Traceback (most recent call last)",
      "\u001b[1;32m~\\AppData\\Local\\Temp\\ipykernel_12244\\4131178945.py\u001b[0m in \u001b[0;36m<module>\u001b[1;34m\u001b[0m\n\u001b[0;32m      2\u001b[0m \u001b[0mdivisor\u001b[0m \u001b[1;33m=\u001b[0m \u001b[1;36m2\u001b[0m\u001b[1;33m\u001b[0m\u001b[1;33m\u001b[0m\u001b[0m\n\u001b[0;32m      3\u001b[0m \u001b[1;33m\u001b[0m\u001b[0m\n\u001b[1;32m----> 4\u001b[1;33m \u001b[0mdevider\u001b[0m\u001b[1;33m(\u001b[0m\u001b[0mnumb\u001b[0m\u001b[1;33m,\u001b[0m\u001b[0mdivisor\u001b[0m\u001b[1;33m)\u001b[0m\u001b[1;33m\u001b[0m\u001b[1;33m\u001b[0m\u001b[0m\n\u001b[0m\u001b[0;32m      5\u001b[0m \u001b[1;33m\u001b[0m\u001b[0m\n\u001b[0;32m      6\u001b[0m \u001b[1;31m# expected output\u001b[0m\u001b[1;33m\u001b[0m\u001b[1;33m\u001b[0m\u001b[0m\n",
      "\u001b[1;31mNameError\u001b[0m: name 'devider' is not defined"
     ]
    }
   ],
   "source": [
    "numb = [2, 5, 9, 37, 14, 24, 17, 1, 80, 48, 96]\n",
    "divisor = 2\n",
    "\n",
    "devider(numb,divisor)\n",
    "\n",
    "# expected output\n",
    "# There are 6 value which can be divided by 2 which is 2, 14, 24, 80, 48, 96"
   ]
  },
  {
   "cell_type": "code",
   "execution_count": 16,
   "metadata": {},
   "outputs": [
    {
     "name": "stdout",
     "output_type": "stream",
     "text": [
      "List doesn't contain 100 and it's added to the List\n",
      "[2, 5, 9, 37, 14, 24, 17, 1, 80, 48, 96, 100]\n"
     ]
    }
   ],
   "source": [
    "numb = [2, 5, 9, 37, 14, 24, 17, 1, 80, 48, 96]\n",
    "divisor = 100\n",
    "\n",
    "devider(numb,divisor)\n",
    "\n",
    "# expected output\n",
    "# List doesn't contain 100 and it's added to the List\n",
    "# [2, 5, 9, 37, 14, 24, 17, 1, 80, 48, 96, 100]"
   ]
  },
  {
   "cell_type": "markdown",
   "metadata": {},
   "source": [
    "### **Soal 3 List Comprehension (Hard)**"
   ]
  },
  {
   "cell_type": "markdown",
   "metadata": {},
   "source": [
    "Buatlah list comprehension dengan persyaratan sebagai berikut:\n",
    "\n",
    "1. Jika bilangan genap maka bilangan tersebut di kuadratkan.\n",
    "2. Jika bilangan ganjil maka angka tersebut di bagi 2\n",
    "3. jika bilangan 0 maka angka tersebut tidak dimasukan kedalam list \n",
    "<br>\n",
    "<br>\n",
    "input<br>\n",
    "x=[0,1,2,3,4,5,6]\n",
    "<br>\n",
    "<br>\n",
    "output :<br>\n",
    "[0.5, 4, 1.5, 16, 2.5, 36]"
   ]
  },
  {
   "cell_type": "code",
   "execution_count": 111,
   "metadata": {},
   "outputs": [
    {
     "name": "stdout",
     "output_type": "stream",
     "text": [
      "0.5 4 16 2.5 64 100 "
     ]
    }
   ],
   "source": [
    "x=[0,1,2,4,0,5,0,8,10]\n",
    "x.remove(0)\n",
    "#[i for i in x if i ** 2 == 0 elif i%2==1]\n",
    "for i in x:\n",
    "    if i % 2 == 0:\n",
    "        print (i**2, end=\" \")\n",
    "        \n",
    "    elif i % 2 ==1:\n",
    "        print(i/2, end=\" \")\n",
    "        x.remove(0)\n",
    "\n",
    "\n",
    "    \n",
    "#your code goes here\n",
    "\n",
    "# expected output: [0.5, 4, 16, 2.5, 64, 100]\n"
   ]
  },
  {
   "cell_type": "code",
   "execution_count": null,
   "metadata": {},
   "outputs": [],
   "source": []
  }
 ],
 "metadata": {
  "kernelspec": {
   "display_name": "Python 3 (ipykernel)",
   "language": "python",
   "name": "python3"
  },
  "language_info": {
   "codemirror_mode": {
    "name": "ipython",
    "version": 3
   },
   "file_extension": ".py",
   "mimetype": "text/x-python",
   "name": "python",
   "nbconvert_exporter": "python",
   "pygments_lexer": "ipython3",
   "version": "3.9.13"
  },
  "vscode": {
   "interpreter": {
    "hash": "ad2bdc8ecc057115af97d19610ffacc2b4e99fae6737bb82f5d7fb13d2f2c186"
   }
  }
 },
 "nbformat": 4,
 "nbformat_minor": 2
}
